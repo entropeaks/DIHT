{
 "cells": [
  {
   "cell_type": "code",
   "execution_count": 1,
   "id": "7b02456b",
   "metadata": {},
   "outputs": [
    {
     "name": "stderr",
     "output_type": "stream",
     "text": [
      "/home/timothee/Documents/programmation/DIHT/.env/lib/python3.11/site-packages/pydantic/_internal/_generate_schema.py:2249: UnsupportedFieldAttributeWarning: The 'repr' attribute with value False was provided to the `Field()` function, which has no effect in the context it was used. 'repr' is field-specific metadata, and can only be attached to a model field using `Annotated` metadata or by assignment. This may have happened because an `Annotated` type alias using the `type` statement was used, or if the `Field()` function was attached to a single member of a union type.\n",
      "  warnings.warn(\n",
      "/home/timothee/Documents/programmation/DIHT/.env/lib/python3.11/site-packages/pydantic/_internal/_generate_schema.py:2249: UnsupportedFieldAttributeWarning: The 'frozen' attribute with value True was provided to the `Field()` function, which has no effect in the context it was used. 'frozen' is field-specific metadata, and can only be attached to a model field using `Annotated` metadata or by assignment. This may have happened because an `Annotated` type alias using the `type` statement was used, or if the `Field()` function was attached to a single member of a union type.\n",
      "  warnings.warn(\n"
     ]
    }
   ],
   "source": [
    "from transformers import AutoImageProcessor, AutoModel\n",
    "import torch\n",
    "from torch.utils.data import DataLoader\n",
    "from src.model import SiameseDino\n",
    "from src.training import evaluate\n",
    "from src.data import CachedCollection, LazyLoadCollection, extractPaths, train_test_split, make_transform\n",
    "from pathlib import Path"
   ]
  },
  {
   "cell_type": "code",
   "execution_count": 2,
   "id": "ca179acd",
   "metadata": {},
   "outputs": [
    {
     "data": {
      "application/vnd.jupyter.widget-view+json": {
       "model_id": "d8486b5746f84bdb9425ad33f3c554fa",
       "version_major": 2,
       "version_minor": 0
      },
      "text/plain": [
       "Fetching 1 files:   0%|          | 0/1 [00:00<?, ?it/s]"
      ]
     },
     "metadata": {},
     "output_type": "display_data"
    }
   ],
   "source": [
    "base_model_name = \"facebook/dinov3-vitb16-pretrain-lvd1689m\"\n",
    "processor = AutoImageProcessor.from_pretrained(base_model_name)\n",
    "dinov3_model = AutoModel.from_pretrained(\n",
    "    base_model_name,\n",
    "    dtype=torch.float32\n",
    ")"
   ]
  },
  {
   "cell_type": "code",
   "execution_count": 8,
   "id": "3424f5ac",
   "metadata": {},
   "outputs": [],
   "source": [
    "hidden_dim = 512\n",
    "output_dim = 128\n",
    "device = torch.device(\"cuda\" if torch.backends.mps.is_available() else \"cpu\")\n",
    "siamese_model = SiameseDino(dinov3_model, hidden_dim, output_dim)\n",
    "siamese_model.load_state_dict(torch.load(\"../model_checkpoints/smooth-cloud-114.pth\"))\n",
    "_ = siamese_model.to(device)"
   ]
  },
  {
   "cell_type": "code",
   "execution_count": 4,
   "id": "742af840",
   "metadata": {},
   "outputs": [],
   "source": [
    "root_path = Path(\"../data/original_data\")\n",
    "images_paths, labels = extractPaths(root_path)\n",
    "train_paths, test_paths, train_labels, test_labels = train_test_split(images_paths, labels, 0.3, random_state=42)\n",
    "train_dataset = CachedCollection(train_paths, train_labels, make_transform())\n",
    "test_dataset = CachedCollection(test_paths, test_labels, make_transform())\n",
    "train_dataloader = DataLoader(train_dataset)\n",
    "test_dataloader = DataLoader(test_dataset)"
   ]
  },
  {
   "cell_type": "code",
   "execution_count": 5,
   "id": "f02472a3",
   "metadata": {},
   "outputs": [
    {
     "name": "stdout",
     "output_type": "stream",
     "text": [
      "{'recall@1': 0.5588235294117647, 'recall@3': 0.6764705882352942, 'recall@5': 0.7647058823529411}\n"
     ]
    }
   ],
   "source": [
    "print(evaluate(siamese_model, processor, train_dataloader, test_dataloader, [1, 3, 5]))"
   ]
  },
  {
   "cell_type": "code",
   "execution_count": 7,
   "id": "d3edc0af",
   "metadata": {},
   "outputs": [
    {
     "name": "stdout",
     "output_type": "stream",
     "text": [
      "{'recall@1': 0.5490196078431373, 'recall@3': 0.7058823529411765, 'recall@5': 0.7647058823529411}\n"
     ]
    }
   ],
   "source": [
    "print(evaluate(siamese_model, processor, train_dataloader, test_dataloader, [1, 3, 5]))"
   ]
  },
  {
   "cell_type": "code",
   "execution_count": 10,
   "id": "30c51db7",
   "metadata": {},
   "outputs": [
    {
     "name": "stdout",
     "output_type": "stream",
     "text": [
      "{'recall@1': 0.5, 'recall@3': 0.6470588235294118, 'recall@10': 0.9019607843137255}\n"
     ]
    }
   ],
   "source": [
    "print(evaluate(siamese_model, processor, train_dataloader, test_dataloader, [1, 3, 10]))"
   ]
  },
  {
   "cell_type": "code",
   "execution_count": null,
   "id": "cc5a12d3",
   "metadata": {},
   "outputs": [],
   "source": []
  }
 ],
 "metadata": {
  "kernelspec": {
   "display_name": ".env",
   "language": "python",
   "name": "python3"
  },
  "language_info": {
   "codemirror_mode": {
    "name": "ipython",
    "version": 3
   },
   "file_extension": ".py",
   "mimetype": "text/x-python",
   "name": "python",
   "nbconvert_exporter": "python",
   "pygments_lexer": "ipython3",
   "version": "3.11.7"
  }
 },
 "nbformat": 4,
 "nbformat_minor": 5
}
